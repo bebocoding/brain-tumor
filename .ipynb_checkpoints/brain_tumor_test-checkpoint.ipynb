{
 "cells": [
  {
   "cell_type": "code",
   "execution_count": 1,
   "id": "7d5379bc-46f7-4079-851d-f77ce9a92190",
   "metadata": {},
   "outputs": [],
   "source": [
    "import numpy as np\n",
    "import pandas as pd\n",
    "import matplotlib.pyplot as plt\n",
    "import os\n",
    "import cv2"
   ]
  },
  {
   "cell_type": "markdown",
   "id": "dfd6563e-1480-4eb4-8ec7-fab760ccee04",
   "metadata": {},
   "source": [
    "# Import the dataset"
   ]
  },
  {
   "cell_type": "code",
   "execution_count": null,
   "id": "701ba003-8a2a-4e91-8aac-6d1277d8df7f",
   "metadata": {},
   "outputs": [],
   "source": [
    "data_dir = 'Training'\n",
    "categories = ['glioma_tumor', 'meningioma_tumor', 'no_tumor', 'pituitary_tumor']\n",
    "training_data = []\n",
    "targets = []\n",
    "for c in categories:\n",
    "    path = os.path.join(data_dir, c)\n",
    "    for img in os.listdir(path):\n",
    "        img_path = os.path.join(path, img)\n",
    "        img = cv2.imread(img_path)\n",
    "        img = cv2.resize(img, (200,200))\n",
    "        img = np.array(img).flatten()\n",
    "        training_data.append(img)\n",
    "        targets.append(c)\n",
    "\n",
    "X_train = pd.DataFrame(training_data)\n",
    "y_train = pd.series(targets)\n",
    "print(X_train.shape)\n",
    "print(y_train.shape)"
   ]
  },
  {
   "cell_type": "code",
   "execution_count": 4,
   "id": "29a8e34c-7672-469a-b409-e463ed8a4839",
   "metadata": {},
   "outputs": [
    {
     "data": {
      "text/plain": [
       "\u001b[1;31mDocstring:\u001b[0m\n",
       "imread(filename[, flags]) -> retval\n",
       ".   @brief Loads an image from a file.\n",
       ".   \n",
       ".   @anchor imread\n",
       ".   \n",
       ".   The function imread loads an image from the specified file and returns it. If the image cannot be\n",
       ".   read (because of missing file, improper permissions, unsupported or invalid format), the function\n",
       ".   returns an empty matrix ( Mat::data==NULL ).\n",
       ".   \n",
       ".   Currently, the following file formats are supported:\n",
       ".   \n",
       ".   -   Windows bitmaps - \\*.bmp, \\*.dib (always supported)\n",
       ".   -   JPEG files - \\*.jpeg, \\*.jpg, \\*.jpe (see the *Note* section)\n",
       ".   -   JPEG 2000 files - \\*.jp2 (see the *Note* section)\n",
       ".   -   Portable Network Graphics - \\*.png (see the *Note* section)\n",
       ".   -   WebP - \\*.webp (see the *Note* section)\n",
       ".   -   AVIF - \\*.avif (see the *Note* section)\n",
       ".   -   Portable image format - \\*.pbm, \\*.pgm, \\*.ppm \\*.pxm, \\*.pnm (always supported)\n",
       ".   -   PFM files - \\*.pfm (see the *Note* section)\n",
       ".   -   Sun rasters - \\*.sr, \\*.ras (always supported)\n",
       ".   -   TIFF files - \\*.tiff, \\*.tif (see the *Note* section)\n",
       ".   -   OpenEXR Image files - \\*.exr (see the *Note* section)\n",
       ".   -   Radiance HDR - \\*.hdr, \\*.pic (always supported)\n",
       ".   -   Raster and Vector geospatial data supported by GDAL (see the *Note* section)\n",
       ".   \n",
       ".   @note\n",
       ".   -   The function determines the type of an image by the content, not by the file extension.\n",
       ".   -   In the case of color images, the decoded images will have the channels stored in **B G R** order.\n",
       ".   -   When using IMREAD_GRAYSCALE, the codec's internal grayscale conversion will be used, if available.\n",
       ".       Results may differ to the output of cvtColor()\n",
       ".   -   On Microsoft Windows\\* OS and MacOSX\\*, the codecs shipped with an OpenCV image (libjpeg,\n",
       ".       libpng, libtiff, and libjasper) are used by default. So, OpenCV can always read JPEGs, PNGs,\n",
       ".       and TIFFs. On MacOSX, there is also an option to use native MacOSX image readers. But beware\n",
       ".       that currently these native image loaders give images with different pixel values because of\n",
       ".       the color management embedded into MacOSX.\n",
       ".   -   On Linux\\*, BSD flavors and other Unix-like open-source operating systems, OpenCV looks for\n",
       ".       codecs supplied with an OS image. Install the relevant packages (do not forget the development\n",
       ".       files, for example, \"libjpeg-dev\", in Debian\\* and Ubuntu\\*) to get the codec support or turn\n",
       ".       on the OPENCV_BUILD_3RDPARTY_LIBS flag in CMake.\n",
       ".   -   In the case you set *WITH_GDAL* flag to true in CMake and @ref IMREAD_LOAD_GDAL to load the image,\n",
       ".       then the [GDAL](http://www.gdal.org) driver will be used in order to decode the image, supporting\n",
       ".       the following formats: [Raster](http://www.gdal.org/formats_list.html),\n",
       ".       [Vector](http://www.gdal.org/ogr_formats.html).\n",
       ".   -   If EXIF information is embedded in the image file, the EXIF orientation will be taken into account\n",
       ".       and thus the image will be rotated accordingly except if the flags @ref IMREAD_IGNORE_ORIENTATION\n",
       ".       or @ref IMREAD_UNCHANGED are passed.\n",
       ".   -   Use the IMREAD_UNCHANGED flag to keep the floating point values from PFM image.\n",
       ".   -   By default number of pixels must be less than 2^30. Limit can be set using system\n",
       ".       variable OPENCV_IO_MAX_IMAGE_PIXELS\n",
       ".   \n",
       ".   @param filename Name of file to be loaded.\n",
       ".   @param flags Flag that can take values of cv::ImreadModes\n",
       "\u001b[1;31mType:\u001b[0m      builtin_function_or_method"
      ]
     },
     "metadata": {},
     "output_type": "display_data"
    }
   ],
   "source": [
    "cv2.imread?"
   ]
  }
 ],
 "metadata": {
  "kernelspec": {
   "display_name": "Python 3 (ipykernel)",
   "language": "python",
   "name": "python3"
  },
  "language_info": {
   "codemirror_mode": {
    "name": "ipython",
    "version": 3
   },
   "file_extension": ".py",
   "mimetype": "text/x-python",
   "name": "python",
   "nbconvert_exporter": "python",
   "pygments_lexer": "ipython3",
   "version": "3.12.0"
  }
 },
 "nbformat": 4,
 "nbformat_minor": 5
}
